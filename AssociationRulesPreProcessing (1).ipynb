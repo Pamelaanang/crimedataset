{
  "nbformat": 4,
  "nbformat_minor": 0,
  "metadata": {
    "colab": {
      "provenance": []
    },
    "kernelspec": {
      "name": "python3",
      "display_name": "Python 3"
    },
    "language_info": {
      "name": "python"
    }
  },
  "cells": [
    {
      "cell_type": "code",
      "execution_count": null,
      "metadata": {
        "id": "2zYJbCGaTI6A"
      },
      "outputs": [],
      "source": [
        "import pandas as pd\n",
        "\n",
        "# Read Crimes CSV file into a pandas dataframe for manipulation in python\n",
        "df = pd.read_csv('Crime_Data_Set_Cleaned.csv')\n",
        "\n",
        "# Select only two columns ('Location Description' and 'Primary Type') from the DataFrame df and assign it to a new DataFrame called selected_columns_df\n",
        "selected_columns_df = df[['Location Description', 'Primary Type']]\n",
        "\n",
        "# We create a function (remove_duplicates) that takes a row of data as input, removes any duplicates\n",
        "# (after dropping any missing values), sorts the unique values, and joins them into a comma-separated string\n",
        "def remove_duplicates(row):\n",
        "    return ','.join(sorted(set(row.dropna())))\n",
        "\n",
        "# Because we want the types of crimes that occur at a given location, we group the selected columns DataFrame by 'Location Description',\n",
        "# and apply the remove_duplicates function to each group, and then reset the index to create a new DataFrame melted_df with the result.\n",
        "merged_df = selected_columns_df.groupby('Location Description')['Primary Type'].apply(remove_duplicates).reset_index()\n",
        "\n",
        "# We use a function called pivot to rearrange the data, using 'Location Description' as the index, the cumulative count of occurrences as columns,\n",
        "# and 'Primary Type' as the values. We then resets the index to create a new DataFrame restructured_df.\n",
        "restructured_df = merged_df.pivot_table(index='Location Description', columns=merged_df.groupby('Location Description').cumcount(), values='Primary Type', aggfunc='first').reset_index()\n",
        "\n",
        "# This creates two columns of the Location Description (index) and 0 (aggregrate primary types). We Split the values in the column ('0') of restructured_df by commas,\n",
        "# creating a new DataFrame split_column_0.\n",
        "split_column_0 = restructured_df[0].str.split(',', expand=True)\n",
        "\n",
        "# We Concatenat the split columns with the rest of the DataFrame being the Location Description left\n",
        "restructured_df = pd.concat([restructured_df.drop(columns=0), split_column_0], axis=1)\n",
        "\n",
        "# We Display the resulting DataFrame\n",
        "restructured_df\n",
        "\n",
        "# Download resulting dataframe into a CSV file for RapidMiner manipultaion\n",
        "restructured_df.to_csv('./preprocessed_association_rules_mining_dataset.csv', index=False)"
      ]
    }
  ]
}